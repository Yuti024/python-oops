{
  "nbformat": 4,
  "nbformat_minor": 0,
  "metadata": {
    "colab": {
      "provenance": []
    },
    "kernelspec": {
      "name": "python3",
      "display_name": "Python 3"
    },
    "language_info": {
      "name": "python"
    }
  },
  "cells": [
    {
      "cell_type": "markdown",
      "source": [
        "# Python OOPS"
      ],
      "metadata": {
        "id": "_so6Y07rXMRm"
      }
    },
    {
      "cell_type": "markdown",
      "source": [
        "**THEORY QUESTION**"
      ],
      "metadata": {
        "id": "-WJCmlz13CHD"
      }
    },
    {
      "cell_type": "markdown",
      "source": [
        "1.What is Object-Oriented Programming (OOP)?\n",
        "\n",
        "-->Object-Oriented Programming (OOP) is a method of writing computer programs using the concept of objects. These objects represent real-world things, like a car, a student, or a bank account. Each object has its own data (called properties) and functions (called methods) that describe how it behaves.\n",
        "\n",
        " Features of OOP:\n",
        "\n",
        "1) Class\n",
        "\n",
        "2) Object\n",
        "\n",
        "3) Encapsulation\n",
        "\n",
        "4) Inheritance\n",
        "\n",
        "5) Polymorphism\n",
        "\n",
        "6) Abstraction\n",
        "\n"
      ],
      "metadata": {
        "id": "idUBIUSpXXJ2"
      }
    },
    {
      "cell_type": "markdown",
      "source": [
        "2.What is a class in OOP?\n",
        "\n",
        "-->A class is a blueprint or template used to create objects.\n",
        "A class defines the properties (data) and methods (functions) that the objects created from it will have.\n",
        "\n",
        "Example:"
      ],
      "metadata": {
        "id": "YnHKwFePZGI_"
      }
    },
    {
      "cell_type": "code",
      "execution_count": 2,
      "metadata": {
        "id": "ocCmxMXQW5Zh"
      },
      "outputs": [],
      "source": [
        "class Car:\n",
        "    def __init__(self, brand, color):\n",
        "        self.brand = brand\n",
        "        self.color = color\n",
        "\n",
        "    def drive(self):\n",
        "        print(f\"The {self.color} {self.brand} is driving.\")\n"
      ]
    },
    {
      "cell_type": "code",
      "source": [
        "car1 = Car(\"Porsche\", \"Red\")\n",
        "car1.drive()\n"
      ],
      "metadata": {
        "colab": {
          "base_uri": "https://localhost:8080/"
        },
        "id": "aJfe2OBYZ0g4",
        "outputId": "8eeb3838-09c0-4887-8fb2-0125f08ed58f"
      },
      "execution_count": 3,
      "outputs": [
        {
          "output_type": "stream",
          "name": "stdout",
          "text": [
            "The Red Porsche is driving.\n"
          ]
        }
      ]
    },
    {
      "cell_type": "markdown",
      "source": [
        "3.What is an object in OOP?\n",
        "\n",
        "-->An object is a real-world entity created using a class.\n",
        "A class is like a blueprint, and an object is a real instance of that blueprint. Each object has its own data (properties) and can perform actions using functions (methods) defined in the class.\n",
        "\n",
        "Example:"
      ],
      "metadata": {
        "id": "dIKMdqNVmlwm"
      }
    },
    {
      "cell_type": "code",
      "source": [
        "class Student:\n",
        "    def __init__(self, name, grade):\n",
        "        self.name = name\n",
        "        self.grade = grade\n",
        "\n",
        "    def study(self):\n",
        "        print(f\"{self.name} is studying.\")\n"
      ],
      "metadata": {
        "id": "Wl8EgYOlmYBZ"
      },
      "execution_count": 4,
      "outputs": []
    },
    {
      "cell_type": "code",
      "source": [
        "s1 = Student(\"Nik\", \"10th\")\n",
        "s1.study()\n"
      ],
      "metadata": {
        "colab": {
          "base_uri": "https://localhost:8080/"
        },
        "id": "sgCU4hzzm-qM",
        "outputId": "2a52b99a-48e7-405e-fad9-24e2a232856d"
      },
      "execution_count": 5,
      "outputs": [
        {
          "output_type": "stream",
          "name": "stdout",
          "text": [
            "Nik is studying.\n"
          ]
        }
      ]
    },
    {
      "cell_type": "markdown",
      "source": [
        "s1 is an object of the Student class."
      ],
      "metadata": {
        "id": "qDu-GXq1nN6w"
      }
    },
    {
      "cell_type": "markdown",
      "source": [
        "4.What is the difference between abstraction and encapsulation?\n",
        "\n",
        "-->1)Abstraction:\n",
        "\n",
        "Abstraction means hiding unnecessary details and showing only the important features of an object.\n",
        "\n",
        "It helps to reduce complexity by focusing on what an object does, not how it does it.\n",
        "\n",
        "Abstraction is achieved using abstract classes, interfaces, or methods.\n",
        "\n",
        "Example: When you use a mobile phone, you only see the interface — not the internal circuit or code.\n",
        "\n",
        "It is mainly used to simplify and organize code.\n",
        "\n",
        "2)Encapsulation:\n",
        "\n",
        "Encapsulation means hiding the internal data of an object and allowing access only through specific methods.\n",
        "\n",
        "It helps in protecting data and making it secure from unauthorized access.\n",
        "\n",
        "Encapsulation is done by using private or protected variables with public getter and setter methods.\n",
        "\n",
        "Example: In a bank account class, the balance is private and accessed only through methods like getBalance().\n",
        "\n",
        "It is mainly used to protect and control access to data."
      ],
      "metadata": {
        "id": "mQV2LrMfnQgT"
      }
    },
    {
      "cell_type": "markdown",
      "source": [
        "5. What are dunder methods in Python?\n",
        "\n",
        "--> Dunder Methods in Python\n",
        "Dunder methods are special methods in Python that start and end with double underscores (e.g., __init__, __str__, __len__).\n",
        "\n",
        "The word \"dunder\" stands for \"Double UNDERscore\".\n",
        "\n",
        "These methods are also called magic methods or special methods.\n",
        "\n",
        "They allow you to define custom behavior for your objects — like how they are created, compared, printed, added, etc.\n",
        "\n",
        "Dunder methods are automatically called by Python in certain situations.\n",
        "\n",
        "\n",
        "Common Dunder Methods:\n",
        "\n",
        "1.__init__(self) → Called when an object is created (like a constructor)\n",
        "\n",
        "2.__str__(self) → Defines what is shown when you print the object\n",
        "\n",
        "3.__len__(self) → Called when you use the len() function on the object\n",
        "\n",
        "4.__add__(self, other) → Defines behavior for the + operator\n",
        "\n",
        "5.__eq__(self, other) → Checks if two objects are equal using ==\n",
        "\n",
        "\n",
        "Example:"
      ],
      "metadata": {
        "id": "VV0pVGxtn7m0"
      }
    },
    {
      "cell_type": "code",
      "source": [
        "class Student:\n",
        "    def __init__(self, name):\n",
        "        self.name = name\n",
        "\n",
        "    def __str__(self):\n",
        "        return f\"Student Name: {self.name}\"\n",
        "\n",
        "s1 = Student(\"Nik\")\n",
        "print(s1)\n"
      ],
      "metadata": {
        "colab": {
          "base_uri": "https://localhost:8080/"
        },
        "id": "uD6Ll3HunJSB",
        "outputId": "8eec3556-b0cc-49a3-f9c3-52c07f2c858e"
      },
      "execution_count": 6,
      "outputs": [
        {
          "output_type": "stream",
          "name": "stdout",
          "text": [
            "Student Name: Nik\n"
          ]
        }
      ]
    },
    {
      "cell_type": "markdown",
      "source": [
        "In this example , __init__ sets the name, and __str__ tells Python how to print the object.\n",
        "\n"
      ],
      "metadata": {
        "id": "Ag0mgs1poynt"
      }
    },
    {
      "cell_type": "markdown",
      "source": [
        "6.Explain the concept of inheritance in OOP.\n",
        "\n",
        "-->Inheritance in Object-Oriented Programming (OOP)\n",
        "\n",
        "Inheritance is a concept in OOP where one class (called the child or subclass) inherits the properties and methods of another class (called the parent or superclass).It allows code reusability, so you don’t have to write the same code again for similar classes.\n",
        "The child class can also have its own features, and it can also override the parent’s methods.\n",
        "Inheritance helps in creating a hierarchical relationship between classes.\n",
        "\n",
        "Types of Inheritance in Python:\n",
        "\n",
        "1.Single Inheritance – One child class inherits from one parent class.\n",
        "\n",
        "2.Multiple Inheritance – One child class inherits from more than one parent class.\n",
        "\n",
        "3.Multilevel Inheritance – A class inherits from a class, which in turn inherits from another class.\n",
        "\n",
        "4.Hierarchical Inheritance – Multiple child classes inherit from a single parent class.\n",
        "\n",
        "Example:"
      ],
      "metadata": {
        "id": "gs9Hnf6Go3Ut"
      }
    },
    {
      "cell_type": "code",
      "source": [
        "class Animal:\n",
        "    def speak(self):\n",
        "        print(\"Animal speaks\")\n",
        "\n",
        "class Dog(Animal):\n",
        "    def bark(self):\n",
        "        print(\"Dog barks\")\n",
        "\n",
        "d = Dog()\n",
        "d.speak()\n",
        "d.bark()\n"
      ],
      "metadata": {
        "colab": {
          "base_uri": "https://localhost:8080/"
        },
        "id": "Rrz6mQ6-ous7",
        "outputId": "fb7a2980-9985-4a4c-d2f8-4b87a40b68ff"
      },
      "execution_count": 7,
      "outputs": [
        {
          "output_type": "stream",
          "name": "stdout",
          "text": [
            "Animal speaks\n",
            "Dog barks\n"
          ]
        }
      ]
    },
    {
      "cell_type": "markdown",
      "source": [
        "7.What is polymorphism in OOP?\n",
        "\n",
        "-->Polymorphism means many forms — it allows the same function or method name to behave differently based on the object that is using it.\n",
        "It helps in writing flexible and reusable code, where one interface can work with different types of objects.\n",
        "In OOP, polymorphism is mainly achieved through method overriding and method overloading (though Python mainly uses overriding).\n",
        "\n",
        "Types of Polymorphism:\n",
        "\n",
        "1.Compile-time Polymorphism (Method Overloading)\n",
        "– Not directly supported in Python but can be mimicked using default or variable arguments.\n",
        "\n",
        "2.Run-time Polymorphism (Method Overriding)\n",
        "– When a child class overrides a method from the parent class with a new version.\n",
        "\n",
        "Example:"
      ],
      "metadata": {
        "id": "3O2vpSggpq93"
      }
    },
    {
      "cell_type": "code",
      "source": [
        "class Animal:\n",
        "    def speak(self):\n",
        "        print(\"Animal speaks\")\n",
        "class Dog(Animal):\n",
        "    def speak(self):\n",
        "        print(\"Dog barks\")\n",
        "class Cat(Animal):\n",
        "    def speak(self):\n",
        "        print(\"Cat meows\")\n",
        "a = Animal()\n",
        "d = Dog()\n",
        "c = Cat()\n",
        "a.speak()\n",
        "d.speak()\n",
        "c.speak()"
      ],
      "metadata": {
        "colab": {
          "base_uri": "https://localhost:8080/"
        },
        "id": "e7xITjnBpnvj",
        "outputId": "392ef8c1-16c0-4451-ab91-1383184fde39"
      },
      "execution_count": 8,
      "outputs": [
        {
          "output_type": "stream",
          "name": "stdout",
          "text": [
            "Animal speaks\n",
            "Dog barks\n",
            "Cat meows\n"
          ]
        }
      ]
    },
    {
      "cell_type": "markdown",
      "source": [
        "8.How is encapsulation achieved in Python?\n",
        "\n",
        "-->Encapsulation in Python is achieved by hiding the internal data of a class and restricting access to it from outside the class.\n",
        "\n",
        "This is done by:\n",
        "\n",
        "\n",
        "* Making variables private or protected (using underscores _ or __)  \n",
        "*  Providing getter and setter methods to access or modify the data safely\n",
        "\n",
        "Example:"
      ],
      "metadata": {
        "id": "Kx_NCA9cqRBv"
      }
    },
    {
      "cell_type": "code",
      "source": [
        "class Student:\n",
        "    def __init__(self, name, grade):\n",
        "        self.__name = name\n",
        "        self.__grade = grade\n",
        "    def get_name(self):\n",
        "        return self.__name\n",
        "    def set_grade(self, grade):\n",
        "        self.__grade = grade"
      ],
      "metadata": {
        "id": "77uh84JcqOuV"
      },
      "execution_count": 9,
      "outputs": []
    },
    {
      "cell_type": "markdown",
      "source": [
        "In this example __name and __grade are private.\n",
        "\n",
        "You can access them only using get_name() and set_grade() methods.\n",
        "\n"
      ],
      "metadata": {
        "id": "HnAtLC9PrClQ"
      }
    },
    {
      "cell_type": "markdown",
      "source": [
        "9. What is a constructor in Python?\n",
        "\n",
        "-->In Python, a constructor is a special method that is automatically called when an object of a class is created. It is used to initialize the values of the object's properties. The constructor method in Python is always named __init__(). This method is defined inside a class and is used to set up the initial state of the object by assigning values to variables or performing any setup steps needed when the object is created.\n",
        "\n",
        "Example:\n"
      ],
      "metadata": {
        "id": "6skPjaVUrIo9"
      }
    },
    {
      "cell_type": "code",
      "source": [
        "class Student:\n",
        "    def __init__(self, name, grade):\n",
        "        self.name = name\n",
        "        self.grade = grade\n"
      ],
      "metadata": {
        "id": "FdPN9O1wq-qN"
      },
      "execution_count": 10,
      "outputs": []
    },
    {
      "cell_type": "markdown",
      "source": [
        "A constructor helps in preparing the object for use by initializing its data members as soon as it is created."
      ],
      "metadata": {
        "id": "tMd_QZF6rj2d"
      }
    },
    {
      "cell_type": "markdown",
      "source": [
        "10. What are class and static methods in Python?\n",
        "\n",
        "-->Class Method:\n",
        "A class method is defined using the @classmethod decorator. It takes cls as the first parameter, which refers to the class itself, not an object of the class. Class methods are used when you want to access or modify class-level data that is shared among all objects. You can call a class method using the class name or an object.\n",
        "\n",
        "Static Method:\n",
        "A static method is defined using the @staticmethod decorator. It does not take self or cls as the first parameter, meaning it doesn’t have access to the instance or the class. Static methods are used when you want to perform some action that is related to the class, but does not need to access or change class or object data. They are like regular functions, but they are placed inside the class for better organization.\n",
        "\n",
        "Example:"
      ],
      "metadata": {
        "id": "YOVclaN2rrhv"
      }
    },
    {
      "cell_type": "code",
      "source": [
        "class Math:\n",
        "    def show_class(cls):\n",
        "        print(\"This is a class method.\")\n",
        "    def add(a, b):\n",
        "        return a + b"
      ],
      "metadata": {
        "id": "DvuATbN7ri2f"
      },
      "execution_count": 11,
      "outputs": []
    },
    {
      "cell_type": "code",
      "source": [
        "Math.show_class()\n",
        "print(Math.add(5, 3))\n"
      ],
      "metadata": {
        "colab": {
          "base_uri": "https://localhost:8080/"
        },
        "id": "EUexxPCasKcP",
        "outputId": "d01575f4-dd63-4c3e-bafe-4c4ccec018d5"
      },
      "execution_count": 12,
      "outputs": [
        {
          "output_type": "stream",
          "name": "stdout",
          "text": [
            "This is a class method.\n",
            "8\n"
          ]
        }
      ]
    },
    {
      "cell_type": "markdown",
      "source": [
        "In this example, the show_class() is the class method and add() is static method"
      ],
      "metadata": {
        "id": "kioPRaJHsUvN"
      }
    },
    {
      "cell_type": "markdown",
      "source": [
        "11. What is method overloading in Python?\n",
        "\n",
        "-->Method overloading means having multiple methods with the same name but different arguments in the same class.\n",
        "In Python, method overloading is not natively supported in the traditional way. If you define multiple methods with the same name in a class, the last one will overwrite the previous ones.\n",
        "\n",
        "Python allows a similar effect by using default arguments or *args (variable-length arguments). This way, a single method can behave differently based on the number or type of arguments passed to it.\n",
        "\n",
        "Example:"
      ],
      "metadata": {
        "id": "cXf9rmA3slJR"
      }
    },
    {
      "cell_type": "code",
      "source": [
        "class Greet:\n",
        "    def hello(self, name=None):\n",
        "        if name is not None:\n",
        "            print(f\"Hello, {name}!\")\n",
        "        else:\n",
        "            print(\"Hello!\")\n",
        "\n",
        "g = Greet()\n",
        "g.hello()\n",
        "g.hello(\"Nik\")\n"
      ],
      "metadata": {
        "colab": {
          "base_uri": "https://localhost:8080/"
        },
        "id": "2EP6EzhesOam",
        "outputId": "58299b1f-e937-46a4-bc4d-352e558bbb06"
      },
      "execution_count": 13,
      "outputs": [
        {
          "output_type": "stream",
          "name": "stdout",
          "text": [
            "Hello!\n",
            "Hello, Nik!\n"
          ]
        }
      ]
    },
    {
      "cell_type": "markdown",
      "source": [
        "12.What is method overriding in OOP?\n",
        "\n",
        "-->Method overriding is a feature in Object-Oriented Programming (OOP) where a child class provides its own version of a method that is already defined in its parent class. When the child class creates an object and calls that method, the child class’s version is used instead of the parent’s. This allows the child class to change or extend the behavior of the inherited method to suit its own needs. Method overriding is useful for polymorphism, where the same method can behave differently based on the object calling it.\n",
        "\n",
        "Example:"
      ],
      "metadata": {
        "id": "ShdOgMLKtZOD"
      }
    },
    {
      "cell_type": "code",
      "source": [
        "class Animal:\n",
        "    def speak(self):\n",
        "        print(\"Animal speaks\")\n",
        "\n",
        "class Cat(Animal):\n",
        "    def speak(self):\n",
        "        print(\"cat Meowws\")\n",
        "\n",
        "c = Cat()\n",
        "c.speak()"
      ],
      "metadata": {
        "colab": {
          "base_uri": "https://localhost:8080/"
        },
        "id": "5W-EmHd2tNRS",
        "outputId": "4b02bbca-470f-432a-cb4b-3d1328ba755d"
      },
      "execution_count": 14,
      "outputs": [
        {
          "output_type": "stream",
          "name": "stdout",
          "text": [
            "cat Meowws\n"
          ]
        }
      ]
    },
    {
      "cell_type": "markdown",
      "source": [
        "13.What is a property decorator in Python?\n",
        "\n",
        "-->The property decorator in Python is a special tool used to define getter, setter, and deleter methods for class attributes in a clean and simple way. It allows you to access methods like they were regular attributes, which makes your code easier to read and use. By using the @property decorator, you can create a method that acts like an attribute when you get its value. You can also use @<property_name>.setter to define a method that sets the value, adding control over how attributes are accessed or changed, without directly exposing the internal variables.\n",
        "\n",
        "Example:"
      ],
      "metadata": {
        "id": "veQkjORjuD0y"
      }
    },
    {
      "cell_type": "code",
      "source": [
        "class Student:\n",
        "    def __init__(self, name):\n",
        "        self._name = name\n",
        "    @property\n",
        "    def name(self):\n",
        "        return self._name\n",
        "    @name.setter\n",
        "    def name(self, value):\n",
        "        if value:  # Simple validation\n",
        "            self._name = value\n",
        "        else:\n",
        "            print(\"Name cannot be empty.\")"
      ],
      "metadata": {
        "id": "ojrmjJknt-Au"
      },
      "execution_count": 15,
      "outputs": []
    },
    {
      "cell_type": "code",
      "source": [
        "s = Student(\"Nik\")\n",
        "print(s.name)\n",
        "\n",
        "s.name = \"Tiya\"\n",
        "print(s.name)"
      ],
      "metadata": {
        "colab": {
          "base_uri": "https://localhost:8080/"
        },
        "id": "wlGLC2WpugG2",
        "outputId": "6f05d929-a0ce-46e6-8eb5-4aa8846cda10"
      },
      "execution_count": 16,
      "outputs": [
        {
          "output_type": "stream",
          "name": "stdout",
          "text": [
            "Nik\n",
            "Tiya\n"
          ]
        }
      ]
    },
    {
      "cell_type": "markdown",
      "source": [
        "14.Why is polymorphism important in OOP?\n",
        "\n",
        "-->Polymorphism is important in Object-Oriented Programming because it allows different objects to be treated through the same interface, even if they belong to different classes. This means that the same method name can work differently depending on the object that calls it, making code more flexible and easier to maintain. It helps programmers write generic and reusable code, reducing complexity and improving the ability to extend programs without changing existing code. Overall, polymorphism supports one of the core goals of OOP — making software more modular and adaptable."
      ],
      "metadata": {
        "id": "ybpHNJ2Mu6TN"
      }
    },
    {
      "cell_type": "markdown",
      "source": [
        "15.What is an abstract class in Python?\n",
        "\n",
        "-->An abstract class in Python is a class that cannot be instantiated directly and is designed to be a base class for other classes. It often contains one or more abstract methods, which are methods declared but not implemented in the abstract class itself. These abstract methods must be overridden and implemented in any subclass that inherits from the abstract class. Abstract classes are used to define a common interface or template for a group of related classes, ensuring that certain methods are created in each subclass. In Python, abstract classes are created using the abc module, and the @abstractmethod decorator is used to declare abstract methods.\n",
        "\n",
        "Example:"
      ],
      "metadata": {
        "id": "gyPl-YuVvKgk"
      }
    },
    {
      "cell_type": "code",
      "source": [
        "from abc import ABC, abstractmethod\n",
        "class Animal(ABC):\n",
        "    @abstractmethod\n",
        "    def speak(self):\n",
        "        pass\n",
        "class Cat(Animal):\n",
        "    def speak(self):\n",
        "        print(\"Cat meowws\")\n",
        "\n",
        "c = Cat()\n",
        "c.speak()"
      ],
      "metadata": {
        "colab": {
          "base_uri": "https://localhost:8080/"
        },
        "id": "4Qsy31w5u5X6",
        "outputId": "cf97e78b-af2e-4df6-f4f9-a3e21716db79"
      },
      "execution_count": 17,
      "outputs": [
        {
          "output_type": "stream",
          "name": "stdout",
          "text": [
            "Cat meowws\n"
          ]
        }
      ]
    },
    {
      "cell_type": "markdown",
      "source": [
        "16.What are the advantages of OOP?\n",
        "\n",
        "-->Advantages of Object-Oriented Programming (OOP)\n",
        "\n",
        "1.Organized Code: Groups related data and functions into objects, making programs easier to understand.\n",
        "\n",
        "2.Code Reusability: Uses inheritance to create new classes from existing ones without rewriting code.\n",
        "\n",
        "3.Modularity: Breaks programs into smaller parts (classes/objects), simplifying development and debugging.\n",
        "\n",
        "4.Encapsulation: Protects data by restricting direct access and controlling how it is modified.\n",
        "\n",
        "5.Flexibility with Polymorphism: Allows the same method or operation to behave differently depending on the object.\n",
        "\n",
        "6.Scalability: Makes it easier to add new features without affecting existing code.\n",
        "\n"
      ],
      "metadata": {
        "id": "EKckRrrevuaO"
      }
    },
    {
      "cell_type": "markdown",
      "source": [
        "17.What is the difference between a class variable and an instance variable?\n",
        "\n",
        "-->1.Class Variable:\n",
        "\n",
        "\n",
        "*  Shared by all instances of a class.\n",
        "*  Defined inside the class but outside any method.\n",
        "\n",
        "* Used to store data common to all objects.   \n",
        "*  Changing the class variable affects all instances unless overridden.\n",
        "\n",
        "\n",
        "2.Instance Variable:\n",
        "\n",
        "\n",
        "*  Belongs to a specific object (instance).\n",
        "*  Defined inside methods, usually in the constructor (__init__).\n",
        "*  Holds data unique to each object.\n",
        "*  Changing an instance variable affects only that object.\n",
        "\n",
        "Example:"
      ],
      "metadata": {
        "id": "SnivkvNewHnD"
      }
    },
    {
      "cell_type": "code",
      "source": [
        "class Car:\n",
        "    wheels = 4\n",
        "    def __init__(self, color):\n",
        "        self.color = color\n",
        "car1 = Car(\"Red\")\n",
        "car2 = Car(\"Black\")"
      ],
      "metadata": {
        "id": "ZwJB78k-vrsn"
      },
      "execution_count": 22,
      "outputs": []
    },
    {
      "cell_type": "code",
      "source": [
        "print(car1.wheels)\n",
        "print(car2.wheels)\n",
        "print(car1.color)\n",
        "print(car2.color)"
      ],
      "metadata": {
        "colab": {
          "base_uri": "https://localhost:8080/"
        },
        "id": "hrF20E8ZxQuU",
        "outputId": "e8fe79ff-3384-4a4c-fc0f-9c86720f0a51"
      },
      "execution_count": 23,
      "outputs": [
        {
          "output_type": "stream",
          "name": "stdout",
          "text": [
            "4\n",
            "4\n",
            "Red\n",
            "Black\n"
          ]
        }
      ]
    },
    {
      "cell_type": "markdown",
      "source": [
        "18.What is multiple inheritance in Python?\n",
        "\n",
        "-->Multiple inheritance is a feature in Python where a class can inherit attributes and methods from more than one parent class. This means a single child class can combine behaviors and properties from multiple classes, allowing greater flexibility and code reuse. When a class inherits from multiple classes, it can access and override methods and variables from all of them. However, it requires careful management to avoid conflicts, especially if the parent classes have methods with the same name. Python handles this with a method resolution order (MRO) to decide which parent’s method to use.\n",
        "\n",
        "Example:"
      ],
      "metadata": {
        "id": "1rMXmzCyxkSY"
      }
    },
    {
      "cell_type": "code",
      "source": [
        "class Mother:\n",
        "    def skills(self):\n",
        "        print(\"Cooking, Gardening\")\n",
        "class Father:\n",
        "    def skills(self):\n",
        "        print(\"Driving, Farming\")\n",
        "class Child(Mother, Father):\n",
        "    def skills(self):\n",
        "        Mother.skills(self)\n",
        "        Father.skills(self)\n",
        "        print(\"Programming\")\n",
        "c = Child()\n",
        "c.skills()"
      ],
      "metadata": {
        "colab": {
          "base_uri": "https://localhost:8080/"
        },
        "id": "K1IyqTahxWpi",
        "outputId": "61caa911-ad1f-414f-a63f-c649e811b33b"
      },
      "execution_count": 24,
      "outputs": [
        {
          "output_type": "stream",
          "name": "stdout",
          "text": [
            "Cooking, Gardening\n",
            "Driving, Farming\n",
            "Programming\n"
          ]
        }
      ]
    },
    {
      "cell_type": "markdown",
      "source": [
        "19.Explain the purpose of ‘’__str__’ and ‘__repr__’ ‘ methods in Python.\n",
        "\n",
        "-->In Python, __str__ and __repr__ are special methods used to define how objects of a class are represented as strings. The __str__ method is meant to provide a user-friendly and readable string representation of an object, which is helpful when you print the object or convert it to a string. On the other hand, the __repr__ method is designed to give an official and unambiguous string representation of the object, which can be useful for developers and debugging. Ideally, the string returned by __repr__ should be something that could be used to recreate the object. If __str__ is not defined, Python will use __repr__ as a fallback.\n",
        "\n",
        "Example:"
      ],
      "metadata": {
        "id": "0zzhAENryJa2"
      }
    },
    {
      "cell_type": "code",
      "source": [
        "class Person:\n",
        "    def __init__(self, name, age):\n",
        "        self.name = name\n",
        "        self.age = age\n",
        "    def __str__(self):\n",
        "        return f\"{self.name} is {self.age} years old.\"\n",
        "    def __repr__(self):\n",
        "        return f\"Person(name='{self.name}', age={self.age})\"\n",
        "p = Person(\"Nik\", 22)\n",
        "print(str(p))\n",
        "print(repr(p))"
      ],
      "metadata": {
        "colab": {
          "base_uri": "https://localhost:8080/"
        },
        "id": "k6CxULzayFqK",
        "outputId": "e717a36c-946b-4230-ac9e-530ab5ddf82a"
      },
      "execution_count": 26,
      "outputs": [
        {
          "output_type": "stream",
          "name": "stdout",
          "text": [
            "Nik is 22 years old.\n",
            "Person(name='Nik', age=22)\n"
          ]
        }
      ]
    },
    {
      "cell_type": "markdown",
      "source": [
        "20.What is the significance of the ‘super()’ function in Python?\n",
        "\n",
        "-->The super() function in Python is used to call methods from a parent class inside a child class. This is especially useful when you want to extend or modify the behavior of inherited methods without completely rewriting them. By using super(), you can ensure that the parent class’s method runs properly, which helps in maintaining clean and reusable code. It is commonly used in constructors (__init__) to initialize the parent class’s attributes before adding or changing anything in the child class. Additionally, super() makes working with multiple inheritance easier by following the method resolution order (MRO), ensuring the right parent method is called.\n",
        "\n",
        "Example:"
      ],
      "metadata": {
        "id": "6rL5LzaYy28P"
      }
    },
    {
      "cell_type": "code",
      "source": [
        "class Animal:\n",
        "    def __init__(self, name):\n",
        "        self.name = name\n",
        "class Cat(Animal):\n",
        "    def __init__(self, name, breed):\n",
        "        super().__init__(name)\n",
        "        self.breed = breed\n",
        "c = Cat(\"Mimi\", \"Ragdoll \")\n",
        "print(c.name)\n",
        "print(c.breed)"
      ],
      "metadata": {
        "colab": {
          "base_uri": "https://localhost:8080/"
        },
        "id": "nc2VX1t_ynq1",
        "outputId": "8b9ffac0-3c57-4bbe-93e8-53ffb981f062"
      },
      "execution_count": 27,
      "outputs": [
        {
          "output_type": "stream",
          "name": "stdout",
          "text": [
            "Mimi\n",
            "Ragdoll \n"
          ]
        }
      ]
    },
    {
      "cell_type": "markdown",
      "source": [
        "21.What is the significance of the __del__ method in Python?\n",
        "\n",
        "-->The __del__ method in Python is a special method called a destructor. Its main purpose is to define what should happen when an object is about to be destroyed — that is, when it is no longer in use and is being removed from memory. This method allows you to perform clean-up tasks like closing files, releasing network connections, or freeing other system resources before the object is deleted. Python automatically calls __del__() when the object’s reference count becomes zero. However, it's used rarely and with caution because the exact time of deletion is not always predictable due to Python’s garbage collection system.\n",
        "\n",
        "Example:"
      ],
      "metadata": {
        "id": "66kAfgvK0IEx"
      }
    },
    {
      "cell_type": "code",
      "source": [
        "class FileHandler:\n",
        "    def __init__(self, filename):\n",
        "        self.file = open(filename, 'w')\n",
        "        print(\"File opened\")\n",
        "    def __del__(self):\n",
        "        self.file.close()\n",
        "        print(\"File closed\")\n",
        "f = FileHandler(\"demo.txt\")\n",
        "del f"
      ],
      "metadata": {
        "colab": {
          "base_uri": "https://localhost:8080/"
        },
        "id": "6FpMzt1TyrwO",
        "outputId": "7d1c40b9-af68-412e-f358-d00cc9f2b71c"
      },
      "execution_count": 28,
      "outputs": [
        {
          "output_type": "stream",
          "name": "stdout",
          "text": [
            "File opened\n",
            "File closed\n"
          ]
        }
      ]
    },
    {
      "cell_type": "markdown",
      "source": [
        "22.What is the difference between @staticmethod and @classmethod in Python?\n",
        "\n",
        "-->1. First Parameter:\n",
        "\n",
        "*  @classmethod takes cls as the first parameter (refers to the class).\n",
        "* @staticmethod takes no special first parameter (acts like a regular function).\n",
        "\n",
        "\n",
        "2. Access to Class Data:\n",
        "\n",
        "\n",
        "*  @classmethod can access and modify class variables and methods.  \n",
        "*   @staticmethod cannot access class or instance data directly.\n",
        "\n",
        "3. Usage:\n",
        "\n",
        "\n",
        "*  Use @classmethod when you need to work with the class itself (e.g., creating alternate constructors).\n",
        "  \n",
        "*   Use @staticmethod when the method does not depend on class or instance data — just a utility function.\n",
        "\n",
        "\n",
        "\n",
        "4. How They Are Called:\n",
        "\n",
        "Both can be called using the class name or an object, but:\n",
        "\n",
        "* @classmethod gets the class as an argument.   \n",
        "*    @staticmethod gets no automatic argument.\n",
        "\n",
        " Example:"
      ],
      "metadata": {
        "id": "EzrlYLu70bKM"
      }
    },
    {
      "cell_type": "code",
      "source": [
        "class Demo:\n",
        "    class_var = \"I am a class variable\"\n",
        "    @classmethod\n",
        "    def show_class(cls):\n",
        "        print(\"Class method:\", cls.class_var)\n",
        "    @staticmethod\n",
        "    def add(x, y):\n",
        "        print(\"Static method:\", x + y)\n",
        "Demo.show_class()\n",
        "Demo.add(5, 3)"
      ],
      "metadata": {
        "colab": {
          "base_uri": "https://localhost:8080/"
        },
        "id": "qQqbGF3f0ZU_",
        "outputId": "b7e0ff15-24eb-4bbb-bd78-75d52c6f5ae6"
      },
      "execution_count": 29,
      "outputs": [
        {
          "output_type": "stream",
          "name": "stdout",
          "text": [
            "Class method: I am a class variable\n",
            "Static method: 8\n"
          ]
        }
      ]
    },
    {
      "cell_type": "markdown",
      "source": [
        "23.How does polymorphism work in Python with inheritance?\n",
        "\n",
        "-->In Python, polymorphism with inheritance allows a child class to override methods of a parent class so that the same method name can perform different actions depending on the object that is calling it. This means that a method defined in the parent class can be redefined in the child class to provide more specific behavior. When the method is called on a child class object, Python automatically uses the version defined in the child class. This is useful when you have multiple related classes (through inheritance) and want them to share the same interface (method name), but still behave differently. Polymorphism helps in writing flexible and reusable code that works with different types of objects in a consistent way.\n",
        "\n",
        "Example:"
      ],
      "metadata": {
        "id": "oZROWodA1jyY"
      }
    },
    {
      "cell_type": "code",
      "source": [
        "class Animal:\n",
        "    def speak(self):\n",
        "        print(\"Animal makes a sound\")\n",
        "class Dog(Animal):\n",
        "    def speak(self):\n",
        "        print(\"Dog barks\")\n",
        "class Cat(Animal):\n",
        "    def speak(self):\n",
        "        print(\"Cat meows\")\n",
        "def animal_sound(animal):\n",
        "    animal.speak()\n",
        "\n",
        "animal_sound(Dog())\n",
        "animal_sound(Cat())"
      ],
      "metadata": {
        "colab": {
          "base_uri": "https://localhost:8080/"
        },
        "id": "dfCHOxOM1ih3",
        "outputId": "f6016d50-becc-4bbe-a61b-b9eb50c46b8f"
      },
      "execution_count": 31,
      "outputs": [
        {
          "output_type": "stream",
          "name": "stdout",
          "text": [
            "Dog barks\n",
            "Cat meows\n"
          ]
        }
      ]
    },
    {
      "cell_type": "markdown",
      "source": [
        "24.What is method chaining in Python OOP?\n",
        "\n",
        "-->Method chaining in Python is a programming technique where multiple methods are called on the same object in a single line, one after another. This is possible when each method returns the object itself (usually by returning self). It allows cleaner, more readable code and is commonly used in Object-Oriented Programming when working with classes that perform a sequence of operations. Method chaining helps avoid writing multiple separate lines of code for each method call.\n",
        "\n",
        "Examle:"
      ],
      "metadata": {
        "id": "3Yv-o_gx2JNW"
      }
    },
    {
      "cell_type": "code",
      "source": [
        "class Person:\n",
        "    def __init__(self, name):\n",
        "        self.name = name\n",
        "    def greet(self):\n",
        "        print(f\"Hello, {self.name}\")\n",
        "        return self\n",
        "    def say_age(self, age):\n",
        "        print(f\"I am {age} years old.\")\n",
        "        return self\n",
        "p = Person(\"Nik\")\n",
        "p.greet().say_age(22)"
      ],
      "metadata": {
        "colab": {
          "base_uri": "https://localhost:8080/"
        },
        "id": "RH4Dv5SR17gZ",
        "outputId": "931f1d77-a908-4565-91d8-c571b36d9fac"
      },
      "execution_count": 32,
      "outputs": [
        {
          "output_type": "stream",
          "name": "stdout",
          "text": [
            "Hello, Nik\n",
            "I am 22 years old.\n"
          ]
        },
        {
          "output_type": "execute_result",
          "data": {
            "text/plain": [
              "<__main__.Person at 0x79d0cf239cd0>"
            ]
          },
          "metadata": {},
          "execution_count": 32
        }
      ]
    },
    {
      "cell_type": "markdown",
      "source": [
        "25.What is the purpose of the __call__ method in Python?\n",
        "\n",
        "-->The __call__ method in Python is a special method that allows an object to be used like a function. When you define __call__ in a class, you can \"call\" the object (using parentheses) just like you would call a function. This is useful when you want your objects to behave like functions but also keep track of internal state or data. It's commonly used in situations like building custom function-like objects, decorators, or class-based APIs.\n",
        "\n",
        "Example:"
      ],
      "metadata": {
        "id": "lirDHtKO2eEQ"
      }
    },
    {
      "cell_type": "code",
      "source": [
        "class Adder:\n",
        "    def __init__(self, x):\n",
        "        self.x = x\n",
        "    def __call__(self, y):\n",
        "        return self.x + y\n",
        "add5 = Adder(5)\n",
        "print(add5(2005))"
      ],
      "metadata": {
        "colab": {
          "base_uri": "https://localhost:8080/"
        },
        "id": "_ok644vi2BYD",
        "outputId": "43c86f8a-1f33-4ee1-ece9-ac61a5373d1f"
      },
      "execution_count": 33,
      "outputs": [
        {
          "output_type": "stream",
          "name": "stdout",
          "text": [
            "2010\n"
          ]
        }
      ]
    },
    {
      "cell_type": "markdown",
      "source": [
        "**PRACTICAL QUESTION **"
      ],
      "metadata": {
        "id": "Dnmcvmgj227n"
      }
    },
    {
      "cell_type": "markdown",
      "source": [
        "1.Create a parent class Animal with a method speak() that prints a generic message. Create a child class Dog\n",
        "that overrides the speak() method to print \"Bark!\"."
      ],
      "metadata": {
        "id": "JytDblWX3Lb9"
      }
    },
    {
      "cell_type": "code",
      "source": [
        "class Animal:\n",
        "    def speak(self):\n",
        "        print(\"The animal makes a sound.\")\n",
        "class Dog(Animal):\n",
        "    def speak(self):\n",
        "        print(\"Bark!\")\n",
        "a = Animal()\n",
        "d = Dog()"
      ],
      "metadata": {
        "id": "VNDRIxlN207A"
      },
      "execution_count": 34,
      "outputs": []
    },
    {
      "cell_type": "code",
      "source": [
        "a.speak()\n",
        "d.speak()"
      ],
      "metadata": {
        "colab": {
          "base_uri": "https://localhost:8080/"
        },
        "id": "r1EH9V3y5B-o",
        "outputId": "3573fe8e-30af-41d0-fc1a-8918ef4c2723"
      },
      "execution_count": 35,
      "outputs": [
        {
          "output_type": "stream",
          "name": "stdout",
          "text": [
            "The animal makes a sound.\n",
            "Bark!\n"
          ]
        }
      ]
    },
    {
      "cell_type": "markdown",
      "source": [
        "2. Write a program to create an abstract class Shape with a method area(). Derive classes Circle and Rectangle\n",
        "from it and implement the area() method in both."
      ],
      "metadata": {
        "id": "ugpzexPP5M2u"
      }
    },
    {
      "cell_type": "code",
      "source": [
        "from abc import ABC, abstractmethod\n",
        "import math\n",
        "class Shape(ABC):\n",
        "    @abstractmethod\n",
        "    def area(self):\n",
        "        pass\n",
        "class Circle(Shape):\n",
        "    def __init__(self, radius):\n",
        "        self.radius = radius\n",
        "\n",
        "    def area(self):\n",
        "        return math.pi * self.radius ** 2\n",
        "class Rectangle(Shape):\n",
        "    def __init__(self, length, width):\n",
        "        self.length = length\n",
        "        self.width = width\n",
        "    def area(self):\n",
        "        return self.length * self.width"
      ],
      "metadata": {
        "id": "5FHbcNPI5K_c"
      },
      "execution_count": 36,
      "outputs": []
    },
    {
      "cell_type": "code",
      "source": [
        "c = Circle(2)\n",
        "r = Rectangle(24, 2)\n",
        "print(\"Area of Circle:\", c.area())\n",
        "print(\"Area of Rectangle:\", r.area())"
      ],
      "metadata": {
        "colab": {
          "base_uri": "https://localhost:8080/"
        },
        "id": "P1UBHNvB5fME",
        "outputId": "0bbbabbf-e60f-4971-ab97-966975045de2"
      },
      "execution_count": 37,
      "outputs": [
        {
          "output_type": "stream",
          "name": "stdout",
          "text": [
            "Area of Circle: 12.566370614359172\n",
            "Area of Rectangle: 48\n"
          ]
        }
      ]
    },
    {
      "cell_type": "markdown",
      "source": [
        "3. Implement a multi-level inheritance scenario where a class Vehicle has an attribute type. Derive a class Car\n",
        "and further derive a class ElectricCar that adds a battery attribute."
      ],
      "metadata": {
        "id": "CMl3BqJN5qyI"
      }
    },
    {
      "cell_type": "code",
      "source": [
        "class Vehicle:\n",
        "    def __init__(self, type):\n",
        "        self.type = type\n",
        "    def show_type(self):\n",
        "        print(\"Vehicle Type:\", self.type)\n",
        "class Car(Vehicle):\n",
        "    def __init__(self, type, brand):\n",
        "        super().__init__(type)\n",
        "        self.brand = brand\n",
        "    def show_brand(self):\n",
        "        print(\"Car Brand:\", self.brand)\n",
        "class ElectricCar(Car):\n",
        "    def __init__(self, type, brand, battery):\n",
        "        super().__init__(type, brand)\n",
        "        self.battery = battery\n",
        "    def show_battery(self):\n",
        "        print(\"Battery Capacity:\", self.battery, \"kWh\")"
      ],
      "metadata": {
        "id": "jSqPgu4N5psk"
      },
      "execution_count": 38,
      "outputs": []
    },
    {
      "cell_type": "code",
      "source": [
        "e_car = ElectricCar(\"Electric\", \"Tesla\", 75)\n",
        "e_car.show_type()\n",
        "e_car.show_brand()\n",
        "e_car.show_battery()"
      ],
      "metadata": {
        "colab": {
          "base_uri": "https://localhost:8080/"
        },
        "id": "j7h1t4L35_Az",
        "outputId": "f865609d-e37b-4850-b436-8a778335a27b"
      },
      "execution_count": 40,
      "outputs": [
        {
          "output_type": "stream",
          "name": "stdout",
          "text": [
            "Vehicle Type: Electric\n",
            "Car Brand: Tesla\n",
            "Battery Capacity: 75 kWh\n"
          ]
        }
      ]
    },
    {
      "cell_type": "markdown",
      "source": [
        "4. Demonstrate polymorphism by creating a base class Bird with a method fly(). Create two derived classes\n",
        "Sparrow and Penguin that override the fly() method."
      ],
      "metadata": {
        "id": "S2rQgT-F6SUp"
      }
    },
    {
      "cell_type": "code",
      "source": [
        "class Bird:\n",
        "    def fly(self):\n",
        "        print(\"Some birds can fly.\")\n",
        "class Sparrow(Bird):\n",
        "    def fly(self):\n",
        "        print(\"Sparrow flies high in the sky.\")\n",
        "class Penguin(Bird):\n",
        "    def fly(self):\n",
        "        print(\"Penguins cannot fly, they swim.\")\n",
        "def bird_flight(bird):\n",
        "    bird.fly()"
      ],
      "metadata": {
        "id": "lVyHinlK6H8f"
      },
      "execution_count": 41,
      "outputs": []
    },
    {
      "cell_type": "code",
      "source": [
        "b1 = Sparrow()\n",
        "b2 = Penguin()\n",
        "bird_flight(b1)\n",
        "bird_flight(b2)"
      ],
      "metadata": {
        "colab": {
          "base_uri": "https://localhost:8080/"
        },
        "id": "laf4MWuY6lDi",
        "outputId": "374319e4-7a13-4fdb-8f3f-e6379729aa89"
      },
      "execution_count": 42,
      "outputs": [
        {
          "output_type": "stream",
          "name": "stdout",
          "text": [
            "Sparrow flies high in the sky.\n",
            "Penguins cannot fly, they swim.\n"
          ]
        }
      ]
    },
    {
      "cell_type": "markdown",
      "source": [
        "5. Write a program to demonstrate encapsulation by creating a class BankAccount with private attributes\n",
        "balance and methods to deposit, withdraw, and check balance."
      ],
      "metadata": {
        "id": "qAkXtj856ua4"
      }
    },
    {
      "cell_type": "code",
      "source": [
        "class BankAccount:\n",
        "    def __init__(self, initial_balance=0):\n",
        "        self.__balance = initial_balance\n",
        "    def deposit(self, amount):\n",
        "        if amount > 0:\n",
        "            self.__balance += amount\n",
        "            print(f\"Deposited: ₹{amount}\")\n",
        "        else:\n",
        "            print(\"Invalid deposit amount.\")\n",
        "    def withdraw(self, amount):\n",
        "        if 0 < amount <= self.__balance:\n",
        "            self.__balance -= amount\n",
        "            print(f\"Withdrawn: ₹{amount}\")\n",
        "        else:\n",
        "            print(\"Insufficient balance or invalid amount.\")\n",
        "    def check_balance(self):\n",
        "        print(f\"Current Balance: ₹{self.__balance}\")"
      ],
      "metadata": {
        "id": "6hj93hFc6to4"
      },
      "execution_count": 43,
      "outputs": []
    },
    {
      "cell_type": "code",
      "source": [
        "account = BankAccount(1000)\n",
        "account.deposit(500)\n",
        "account.withdraw(300)\n",
        "account.check_balance()"
      ],
      "metadata": {
        "colab": {
          "base_uri": "https://localhost:8080/"
        },
        "id": "_0hYYhat7A1D",
        "outputId": "872026d8-0f37-4dfa-ef6e-5741ae137056"
      },
      "execution_count": 44,
      "outputs": [
        {
          "output_type": "stream",
          "name": "stdout",
          "text": [
            "Deposited: ₹500\n",
            "Withdrawn: ₹300\n",
            "Current Balance: ₹1200\n"
          ]
        }
      ]
    },
    {
      "cell_type": "markdown",
      "source": [
        "6. Demonstrate runtime polymorphism using a method play() in a base class Instrument. Derive classes Guitar\n",
        "and Piano that implement their own version of play()."
      ],
      "metadata": {
        "id": "P1az_c917JlQ"
      }
    },
    {
      "cell_type": "code",
      "source": [
        "class Instrument:\n",
        "    def play(self):\n",
        "        print(\"Playing an instrument.\")\n",
        "class Guitar(Instrument):\n",
        "    def play(self):\n",
        "        print(\"Playing the guitar.\")\n",
        "class Piano(Instrument):\n",
        "    def play(self):\n",
        "        print(\"Playing the piano.\")\n",
        "def play_instrument(instrument):\n",
        "    instrument.play()"
      ],
      "metadata": {
        "id": "nm1HPkpd7I1y"
      },
      "execution_count": 45,
      "outputs": []
    },
    {
      "cell_type": "code",
      "source": [
        "inst1 = Guitar()\n",
        "inst2 = Piano()\n",
        "play_instrument(inst1)\n",
        "play_instrument(inst2)"
      ],
      "metadata": {
        "colab": {
          "base_uri": "https://localhost:8080/"
        },
        "id": "UlGiH8cu7aGy",
        "outputId": "33115399-232d-4da7-a385-d94237dc40f4"
      },
      "execution_count": 46,
      "outputs": [
        {
          "output_type": "stream",
          "name": "stdout",
          "text": [
            "Playing the guitar.\n",
            "Playing the piano.\n"
          ]
        }
      ]
    },
    {
      "cell_type": "markdown",
      "source": [
        "7. Create a class MathOperations with a class method add_numbers() to add two numbers and a static\n",
        "method subtract_numbers() to subtract two numbers."
      ],
      "metadata": {
        "id": "J7Sns9K57hp2"
      }
    },
    {
      "cell_type": "code",
      "source": [
        "class MathOperations:\n",
        "    @classmethod\n",
        "    def add_numbers(cls, a, b):\n",
        "        return a + b\n",
        "    @staticmethod\n",
        "    def subtract_numbers(a, b):\n",
        "        return a - b"
      ],
      "metadata": {
        "id": "QPMSyfde7g3f"
      },
      "execution_count": 48,
      "outputs": []
    },
    {
      "cell_type": "code",
      "source": [
        "result1 = MathOperations.add_numbers(20, 5)\n",
        "print(\"Addition:\", result1)\n",
        "result2 = MathOperations.subtract_numbers(40, 5)\n",
        "print(\"Subtraction:\", result2)"
      ],
      "metadata": {
        "colab": {
          "base_uri": "https://localhost:8080/"
        },
        "id": "h_NxtQ2y7uQK",
        "outputId": "23c45278-ae51-4561-9e9e-97bc880c4803"
      },
      "execution_count": 49,
      "outputs": [
        {
          "output_type": "stream",
          "name": "stdout",
          "text": [
            "Addition: 25\n",
            "Subtraction: 35\n"
          ]
        }
      ]
    },
    {
      "cell_type": "markdown",
      "source": [
        "8. Implement a class Person with a class method to count the total number of persons created."
      ],
      "metadata": {
        "id": "W_A_ZiIk76sA"
      }
    },
    {
      "cell_type": "code",
      "source": [
        "class Person:\n",
        "    count = 0\n",
        "    def __init__(self, name):\n",
        "        self.name = name\n",
        "        Person.count += 1\n",
        "    @classmethod\n",
        "    def total_persons(cls):\n",
        "        return cls.count"
      ],
      "metadata": {
        "id": "N6x5T0Dy72zJ"
      },
      "execution_count": 50,
      "outputs": []
    },
    {
      "cell_type": "code",
      "source": [
        "p1 = Person(\"Aary\")\n",
        "p2 = Person(\"Nen\")\n",
        "p3 = Person(\"Jihhaa\")\n",
        "print(\"Total persons created:\", Person.total_persons())"
      ],
      "metadata": {
        "colab": {
          "base_uri": "https://localhost:8080/"
        },
        "id": "TxhtSto28Ipe",
        "outputId": "e4b4e573-7617-4788-af31-a1b17bf778d7"
      },
      "execution_count": 51,
      "outputs": [
        {
          "output_type": "stream",
          "name": "stdout",
          "text": [
            "Total persons created: 3\n"
          ]
        }
      ]
    },
    {
      "cell_type": "markdown",
      "source": [
        "9. Write a class Fraction with attributes numerator and denominator. Override the str method to display the\n",
        "fraction as \"numerator/denominator\"."
      ],
      "metadata": {
        "id": "MWtlkzla8USm"
      }
    },
    {
      "cell_type": "code",
      "source": [
        "class Fraction:\n",
        "    def __init__(self, numerator, denominator):\n",
        "        self.numerator = numerator\n",
        "        self.denominator = denominator\n",
        "    def __str__(self):\n",
        "        return f\"{self.numerator}/{self.denominator}\""
      ],
      "metadata": {
        "id": "TgQQvGdH8TeW"
      },
      "execution_count": 53,
      "outputs": []
    },
    {
      "cell_type": "code",
      "source": [
        "f = Fraction(5, 4)\n",
        "print(f)"
      ],
      "metadata": {
        "colab": {
          "base_uri": "https://localhost:8080/"
        },
        "id": "K6Uc_9Xe8kla",
        "outputId": "e280b1e9-3db9-423a-dc81-3b8540e86461"
      },
      "execution_count": 54,
      "outputs": [
        {
          "output_type": "stream",
          "name": "stdout",
          "text": [
            "5/4\n"
          ]
        }
      ]
    },
    {
      "cell_type": "markdown",
      "source": [
        "10.Demonstrate operator overloading by creating a class Vector and overriding the add method to add two\n",
        "vectors"
      ],
      "metadata": {
        "id": "qAdRKP_u8uGw"
      }
    },
    {
      "cell_type": "code",
      "source": [
        "class Vector:\n",
        "    def __init__(self, x, y):\n",
        "        self.x = x\n",
        "        self.y = y\n",
        "    def __add__(self, other):\n",
        "        return Vector(self.x + other.x, self.y + other.y)\n",
        "    def __str__(self):\n",
        "        return f\"Vector({self.x}, {self.y})\""
      ],
      "metadata": {
        "id": "sd9lp1UQ8r0Z"
      },
      "execution_count": 1,
      "outputs": []
    },
    {
      "cell_type": "code",
      "source": [
        "v1 = Vector(2, 3)\n",
        "v2 = Vector(4, 5)\n",
        "v3 = v1 + v2\n",
        "print(v3)"
      ],
      "metadata": {
        "colab": {
          "base_uri": "https://localhost:8080/"
        },
        "id": "cSv_UasbMy0z",
        "outputId": "605a15ff-eeea-4ecc-df28-d21a1a413273"
      },
      "execution_count": 4,
      "outputs": [
        {
          "output_type": "stream",
          "name": "stdout",
          "text": [
            "Vector(6, 8)\n"
          ]
        }
      ]
    },
    {
      "cell_type": "markdown",
      "source": [
        "11. Create a class Person with attributes name and age. Add a method greet() that prints \"Hello, my name is\n",
        "{name} and I am {age} years old.\""
      ],
      "metadata": {
        "id": "oePGsvTmNDKI"
      }
    },
    {
      "cell_type": "code",
      "source": [
        "class Person:\n",
        "    def __init__(self, name, age):\n",
        "        self.name = name\n",
        "        self.age = age\n",
        "    def greet(self):\n",
        "        print(f\"Hello, my name is {self.name} and I am {self.age} years old.\")"
      ],
      "metadata": {
        "id": "9t7CPHLkM78l"
      },
      "execution_count": 5,
      "outputs": []
    },
    {
      "cell_type": "code",
      "source": [
        "p1 = Person(\"Yuti\", 20)\n",
        "p1.greet()"
      ],
      "metadata": {
        "colab": {
          "base_uri": "https://localhost:8080/"
        },
        "id": "--mCot6FNUcS",
        "outputId": "20b26cce-cb69-432d-e60c-a4a2a0aa2cbc"
      },
      "execution_count": 6,
      "outputs": [
        {
          "output_type": "stream",
          "name": "stdout",
          "text": [
            "Hello, my name is Yuti and I am 20 years old.\n"
          ]
        }
      ]
    },
    {
      "cell_type": "markdown",
      "source": [
        "12. Implement a class Student with attributes name and grades. Create a method average_grade() to compute\n",
        "the average of the grades."
      ],
      "metadata": {
        "id": "IzSPiR7_NdBK"
      }
    },
    {
      "cell_type": "code",
      "source": [
        "class Student:\n",
        "    def __init__(self, name, grades):\n",
        "        self.name = name\n",
        "        self.grades = grades\n",
        "    def average_grade(self):\n",
        "        if self.grades:\n",
        "            return sum(self.grades) / len(self.grades)\n",
        "        else:\n",
        "            return 0"
      ],
      "metadata": {
        "id": "sUnWqhl7NcQI"
      },
      "execution_count": 8,
      "outputs": []
    },
    {
      "cell_type": "code",
      "source": [
        "s1 = Student(\"Nik\", [85, 90, 98, 92])\n",
        "print(f\"{s1.name}'s average grade is: {s1.average_grade():.2f}\")"
      ],
      "metadata": {
        "colab": {
          "base_uri": "https://localhost:8080/"
        },
        "id": "DCm32g8ZNr0S",
        "outputId": "e471afd1-4174-44c7-de78-72c790588de1"
      },
      "execution_count": 9,
      "outputs": [
        {
          "output_type": "stream",
          "name": "stdout",
          "text": [
            "Nik's average grade is: 91.25\n"
          ]
        }
      ]
    },
    {
      "cell_type": "markdown",
      "source": [
        "13. Create a class Rectangle with methods set_dimensions() to set the dimensions and area() to calculate the\n",
        "area."
      ],
      "metadata": {
        "id": "2X7KtrKMN7fc"
      }
    },
    {
      "cell_type": "code",
      "source": [
        "class Rectangle:\n",
        "    def __init__(self):\n",
        "        self.length = 0\n",
        "        self.width = 0\n",
        "    def set_dimensions(self, length, width):\n",
        "        self.length = length\n",
        "        self.width = width\n",
        "    def area(self):\n",
        "        return self.length * self.width"
      ],
      "metadata": {
        "id": "31sv2WuBN4u2"
      },
      "execution_count": 11,
      "outputs": []
    },
    {
      "cell_type": "code",
      "source": [
        "rect = Rectangle()\n",
        "rect.set_dimensions(2, 5)\n",
        "print(\"Area of rectangle:\", rect.area())"
      ],
      "metadata": {
        "colab": {
          "base_uri": "https://localhost:8080/"
        },
        "id": "JJvPSfMxOGsp",
        "outputId": "8928b3c2-1b3c-4453-aeb6-34d6906d5808"
      },
      "execution_count": 12,
      "outputs": [
        {
          "output_type": "stream",
          "name": "stdout",
          "text": [
            "Area of rectangle: 10\n"
          ]
        }
      ]
    },
    {
      "cell_type": "markdown",
      "source": [
        "14.. Create a class Employee with a method calculate_salary() that computes the salary based on hours worked\n",
        "and hourly rate. Create a derived class Manager that adds a bonus to the salary."
      ],
      "metadata": {
        "id": "aoCJ-UQROPKv"
      }
    },
    {
      "cell_type": "code",
      "source": [
        "class Employee:\n",
        "    def __init__(self, name, hours_worked, hourly_rate):\n",
        "        self.name = name\n",
        "        self.hours_worked = hours_worked\n",
        "        self.hourly_rate = hourly_rate\n",
        "\n",
        "    def calculate_salary(self):\n",
        "        return self.hours_worked * self.hourly_rate\n",
        "\n",
        "class Manager(Employee):\n",
        "    def __init__(self, name, hours_worked, hourly_rate, bonus):\n",
        "        super().__init__(name, hours_worked, hourly_rate)\n",
        "        self.bonus = bonus\n",
        "\n",
        "    def calculate_salary(self):\n",
        "        base_salary = super().calculate_salary()\n",
        "        return base_salary + self.bonus"
      ],
      "metadata": {
        "id": "xlQRSXKIOM6i"
      },
      "execution_count": 13,
      "outputs": []
    },
    {
      "cell_type": "code",
      "source": [
        "emp = Employee(\"Nik\", 40, 30)\n",
        "print(f\"{emp.name}'s Salary: ₹{emp.calculate_salary()}\")\n",
        "\n",
        "mgr = Manager(\"Neev\", 40, 20, 500)\n",
        "print(f\"{mgr.name}'s Salary: ₹{mgr.calculate_salary()}\")\n"
      ],
      "metadata": {
        "colab": {
          "base_uri": "https://localhost:8080/"
        },
        "id": "ES11aOlNOdEy",
        "outputId": "be09086b-5319-42ac-ee63-65ce9e038ce9"
      },
      "execution_count": 14,
      "outputs": [
        {
          "output_type": "stream",
          "name": "stdout",
          "text": [
            "Nik's Salary: ₹1200\n",
            "Neev's Salary: ₹1300\n"
          ]
        }
      ]
    },
    {
      "cell_type": "markdown",
      "source": [
        "15.Create a class Product with attributes name, price, and quantity. Implement a method total_price() that\n",
        "calculates the total price of the product."
      ],
      "metadata": {
        "id": "NjqGS7g_Oskf"
      }
    },
    {
      "cell_type": "code",
      "source": [
        "class Product:\n",
        "    def __init__(self, name, price, quantity):\n",
        "        self.name = name\n",
        "        self.price = price\n",
        "        self.quantity = quantity\n",
        "\n",
        "    def total_price(self):\n",
        "        return self.price * self.quantity"
      ],
      "metadata": {
        "id": "XYUYjSVZOq4Q"
      },
      "execution_count": 16,
      "outputs": []
    },
    {
      "cell_type": "code",
      "source": [
        "p1 = Product(\"Notebook\", 50, 5)\n",
        "print(f\"Total price of {p1.name}s: ₹{p1.total_price()}\")"
      ],
      "metadata": {
        "colab": {
          "base_uri": "https://localhost:8080/"
        },
        "id": "TxjlcL22O3oJ",
        "outputId": "9c2b4bda-f494-443b-879d-cef631cd5972"
      },
      "execution_count": 17,
      "outputs": [
        {
          "output_type": "stream",
          "name": "stdout",
          "text": [
            "Total price of Notebooks: ₹250\n"
          ]
        }
      ]
    },
    {
      "cell_type": "markdown",
      "source": [
        "16. Create a class Animal with an abstract method sound(). Create two derived classes Cow and Sheep that\n",
        "implement the sound() method."
      ],
      "metadata": {
        "id": "BP9QB3alPCM8"
      }
    },
    {
      "cell_type": "code",
      "source": [
        "from abc import ABC, abstractmethod\n",
        "\n",
        "class Animal(ABC):\n",
        "    @abstractmethod\n",
        "    def sound(self):\n",
        "        pass\n",
        "\n",
        "class Cow(Animal):\n",
        "    def sound(self):\n",
        "        print(\"Cow says: Moo\")\n",
        "\n",
        "class Sheep(Animal):\n",
        "    def sound(self):\n",
        "        print(\"Sheep says: Baa\")"
      ],
      "metadata": {
        "id": "9t_-r7SLO_I7"
      },
      "execution_count": 18,
      "outputs": []
    },
    {
      "cell_type": "code",
      "source": [
        "cow = Cow()\n",
        "sheep = Sheep()\n",
        "cow.sound()\n",
        "sheep.sound()"
      ],
      "metadata": {
        "colab": {
          "base_uri": "https://localhost:8080/"
        },
        "id": "D7l0TsvlPWnw",
        "outputId": "d7169144-2eb8-4e7d-fdac-7edd4fc2f502"
      },
      "execution_count": 19,
      "outputs": [
        {
          "output_type": "stream",
          "name": "stdout",
          "text": [
            "Cow says: Moo\n",
            "Sheep says: Baa\n"
          ]
        }
      ]
    },
    {
      "cell_type": "markdown",
      "source": [
        "17. Create a class Book with attributes title, author, and year_published. Add a method get_book_info() that\n",
        "returns a formatted string with the book's details."
      ],
      "metadata": {
        "id": "4DFlYSJIPBQX"
      }
    },
    {
      "cell_type": "code",
      "source": [
        "class Book:\n",
        "    def __init__(self, title, author, year_published):\n",
        "        self.title = title\n",
        "        self.author = author\n",
        "        self.year_published = year_published\n",
        "\n",
        "    def get_book_info(self):\n",
        "        return f\"'{self.title}' by {self.author} (Published in {self.year_published})\""
      ],
      "metadata": {
        "id": "8whMcy3UPjiq"
      },
      "execution_count": 20,
      "outputs": []
    },
    {
      "cell_type": "code",
      "source": [
        "book1 = Book(\"To Kill a Mockingbird\", \"Harper Lee\", 1960)\n",
        "\n",
        "print(book1.get_book_info())"
      ],
      "metadata": {
        "colab": {
          "base_uri": "https://localhost:8080/"
        },
        "id": "LaMlwP_-PqbF",
        "outputId": "7bc4d067-456a-4ccc-be3c-279867c1a263"
      },
      "execution_count": 21,
      "outputs": [
        {
          "output_type": "stream",
          "name": "stdout",
          "text": [
            "'To Kill a Mockingbird' by Harper Lee (Published in 1960)\n"
          ]
        }
      ]
    },
    {
      "cell_type": "markdown",
      "source": [
        "18. Create a class House with attributes address and price. Create a derived class Mansion that adds an\n",
        "attribute number_of_rooms."
      ],
      "metadata": {
        "id": "QUWdGHrMPzFL"
      }
    },
    {
      "cell_type": "code",
      "source": [
        "class House:\n",
        "    def __init__(self, address, price):\n",
        "        self.address = address\n",
        "        self.price = price\n",
        "\n",
        "    def show_info(self):\n",
        "        print(f\"Address: {self.address}\")\n",
        "        print(f\"Price: ₹{self.price}\")\n",
        "\n",
        "class Mansion(House):\n",
        "    def __init__(self, address, price, number_of_rooms):\n",
        "        super().__init__(address, price)\n",
        "        self.number_of_rooms = number_of_rooms\n",
        "\n",
        "    def show_info(self):\n",
        "        super().show_info()\n",
        "        print(f\"Number of Rooms: {self.number_of_rooms}\")"
      ],
      "metadata": {
        "id": "-yDwMn6QPyAR"
      },
      "execution_count": 22,
      "outputs": []
    },
    {
      "cell_type": "code",
      "source": [
        "m = Mansion(\"111 Luxury Lane\", 20000000, 10)\n",
        "\n",
        "m.show_info()"
      ],
      "metadata": {
        "colab": {
          "base_uri": "https://localhost:8080/"
        },
        "id": "6-PahThrQB5g",
        "outputId": "8346a097-a927-41e8-fc69-2ad98ed8eaed"
      },
      "execution_count": 23,
      "outputs": [
        {
          "output_type": "stream",
          "name": "stdout",
          "text": [
            "Address: 111 Luxury Lane\n",
            "Price: ₹20000000\n",
            "Number of Rooms: 10\n"
          ]
        }
      ]
    },
    {
      "cell_type": "code",
      "source": [],
      "metadata": {
        "id": "a52wev-XQQS3"
      },
      "execution_count": null,
      "outputs": []
    }
  ]
}